{
 "cells": [
  {
   "cell_type": "code",
   "execution_count": 12,
   "id": "c2d4f292",
   "metadata": {},
   "outputs": [],
   "source": [
    "def read_word(file_name):\n",
    "    word_lists = []\n",
    "    f = open(file_name, encoding=\"UTF-8\")\n",
    "    lign = f.readline()\n",
    "    while lign != \"\":\n",
    "        word_lists.append(lign.strip())\n",
    "        lign = f.readline()\n",
    "    return word_lists"
   ]
  },
  {
   "cell_type": "code",
   "execution_count": 13,
   "id": "8bf5586f",
   "metadata": {},
   "outputs": [],
   "source": [
    "def generate_random_word_from(dictionary):\n",
    "    from random import randint\n",
    "    dictionary = read_word(dictionary)\n",
    "    rand_number =randint(0, len(dictionary))\n",
    "    return dictionary[rand_number]\n",
    "    "
   ]
  },
  {
   "cell_type": "code",
   "execution_count": 14,
   "id": "b1a24698",
   "metadata": {},
   "outputs": [],
   "source": [
    "def listToString(s): \n",
    "    \n",
    "    # initialize an empty string\n",
    "    str1 = \"\" \n",
    "    \n",
    "    # traverse in the string  \n",
    "    for ele in s: \n",
    "        str1 += ele  \n",
    "    \n",
    "    # return string  \n",
    "    return str1 "
   ]
  },
  {
   "cell_type": "code",
   "execution_count": 15,
   "id": "5dd59c09",
   "metadata": {},
   "outputs": [],
   "source": [
    "def new_state(word,state,character):\n",
    "    import re\n",
    "    if character in word:       \n",
    "        positionsCharacter = [m.start() for m in re.finditer(character, word)]\n",
    "        state = list(state)\n",
    "        for pos in positionsCharacter:\n",
    "            state[pos] = character \n",
    "        state = listToString(state)\n",
    "    return state"
   ]
  },
  {
   "cell_type": "code",
   "execution_count": 16,
   "id": "a25f8ecd",
   "metadata": {},
   "outputs": [],
   "source": [
    "def start():\n",
    "    \n",
    "    erreur = 0 #nombre d'erreur\n",
    "    erreur_max = 8\n",
    "    initial_state = \"\"\n",
    "    word = generate_random_word_from(\"dictionnaire.txt\") #genere un mot aleatoire dans le dictionnaire\n",
    "    \n",
    "    #initialisation de etat initial avec des underscore == a la taille du mot à trouver\n",
    "    for i in range(len(word)):\n",
    "        initial_state = initial_state +\"_\"\n",
    "        \n",
    "    while erreur < erreur_max :\n",
    "        character = input(\"Veuillez saisir un mot : \")\n",
    "        character = character.upper()\n",
    "        print(new_state(word,initial_state,character))\n",
    "        if initial_state == new_state(word,initial_state,character):\n",
    "            erreur = erreur + 1\n",
    "            if(erreur_max - erreur) > 0:\n",
    "                print('Dommage...')\n",
    "                print('Vous pouvez encore faire {} erreurs'.format((erreur_max - erreur)))\n",
    "            else: \n",
    "                print(\"Perdu!!!\")\n",
    "                print(\"Le mot secret etait {}\".format(word))\n",
    "        else:\n",
    "            initial_state = new_state(word,initial_state,character)\n",
    "            if initial_state != word:     \n",
    "                print('Bravo!!')\n",
    "            else:\n",
    "                print(\"Felicitaions!!! vous avez trouvé le mot secret, vous gagnez donc la partie\")\n",
    "                erreur = 10"
   ]
  },
  {
   "cell_type": "code",
   "execution_count": 17,
   "id": "37ea2fa0",
   "metadata": {},
   "outputs": [
    {
     "name": "stdout",
     "output_type": "stream",
     "text": [
      "Veuillez saisir un mot : a\n",
      "_______\n",
      "Dommage...\n",
      "Vous pouvez encore faire 7 erreurs\n",
      "Veuillez saisir un mot : e\n",
      "__E____\n",
      "Bravo!!\n",
      "Veuillez saisir un mot : a\n",
      "__E____\n",
      "Dommage...\n",
      "Vous pouvez encore faire 6 erreurs\n",
      "Veuillez saisir un mot : i\n",
      "__E__I_\n",
      "Bravo!!\n",
      "Veuillez saisir un mot : t\n",
      "__E__I_\n",
      "Dommage...\n",
      "Vous pouvez encore faire 5 erreurs\n",
      "Veuillez saisir un mot : c\n",
      "__E__I_\n",
      "Dommage...\n",
      "Vous pouvez encore faire 4 erreurs\n",
      "Veuillez saisir un mot : p\n",
      "__E__I_\n",
      "Dommage...\n",
      "Vous pouvez encore faire 3 erreurs\n",
      "Veuillez saisir un mot : a\n",
      "__E__I_\n",
      "Dommage...\n",
      "Vous pouvez encore faire 2 erreurs\n",
      "Veuillez saisir un mot : s\n",
      "__E__I_\n",
      "Dommage...\n",
      "Vous pouvez encore faire 1 erreurs\n",
      "Veuillez saisir un mot : u\n",
      "__EU_I_\n",
      "Bravo!!\n",
      "Veuillez saisir un mot : p\n",
      "__EU_I_\n",
      "Perdu!!!\n",
      "Le mot secret etait FLEURIR\n"
     ]
    }
   ],
   "source": [
    "start()"
   ]
  },
  {
   "cell_type": "code",
   "execution_count": null,
   "id": "91acaf5c",
   "metadata": {},
   "outputs": [],
   "source": []
  }
 ],
 "metadata": {
  "kernelspec": {
   "display_name": "Python 3",
   "language": "python",
   "name": "python3"
  },
  "language_info": {
   "codemirror_mode": {
    "name": "ipython",
    "version": 3
   },
   "file_extension": ".py",
   "mimetype": "text/x-python",
   "name": "python",
   "nbconvert_exporter": "python",
   "pygments_lexer": "ipython3",
   "version": "3.8.5"
  }
 },
 "nbformat": 4,
 "nbformat_minor": 5
}
